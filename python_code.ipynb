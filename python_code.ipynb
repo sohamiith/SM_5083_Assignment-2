{
  "nbformat": 4,
  "nbformat_minor": 0,
  "metadata": {
    "colab": {
      "name": "Untitled0.ipynb",
      "provenance": [],
      "collapsed_sections": []
    },
    "kernelspec": {
      "name": "python3",
      "display_name": "Python 3"
    },
    "language_info": {
      "name": "python"
    }
  },
  "cells": [
    {
      "cell_type": "code",
      "metadata": {
        "colab": {
          "base_uri": "https://localhost:8080/"
        },
        "id": "x7d0Nyx8fBqi",
        "outputId": "b7c03a1c-4568-49d0-c7f8-2b73df2e8f1a"
      },
      "source": [
        "import numpy as np\n",
        "import math\n",
        "np.set_printoptions(precision=3)\n",
        "\n",
        "def FindIntersection(A, C):\n",
        "  return np.dot(np.linalg.inv(A),C.reshape(2,1))\n",
        "\n",
        "def FindDistance(A, B):\n",
        "  s = np.subtract(A,B)\n",
        "  return math.sqrt(math.pow(s[0],2) + math.pow(s[1],2))\n",
        "\n",
        "print(\"Consider line as AX + BY = C\")\n",
        "\n",
        "print(\"Enter the value of A, B and C for first line:\")\n",
        "a1 = int(input(\"A:\"))\n",
        "b1 = int(input(\"B:\"))\n",
        "c1 = int(input(\"C:\"))\n",
        "\n",
        "print(\"Enter the value of A, B and C for second line:\")\n",
        "a2 = int(input(\"A:\"))\n",
        "b2 = int(input(\"B:\"))\n",
        "c2 = int(input(\"C:\"))\n",
        "\n",
        "print(\"Enter the value of A, B and C for third line:\")\n",
        "a3 = int(input(\"A:\"))\n",
        "b3 = int(input(\"B:\"))\n",
        "c3 = int(input(\"C:\"))\n",
        "\n",
        "M = FindIntersection(np.matrix([[a1, b1], [a2, b2]]), np.matrix([c1,c2]))\n",
        "print(\"\\nIntersection between line 1 and 2:\\n\",M)\n",
        "\n",
        "N = FindIntersection(np.matrix([[a2, b2], [a3, b3]]), np.matrix([c2,c3]))\n",
        "print(\"\\nIntersection between line 2 and 3:\\n\",M)\n",
        "\n",
        "O = FindIntersection(np.matrix([[a1, b1], [a3, b3]]), np.matrix([c1,c3]))\n",
        "print(\"\\nIntersection between line 1 and 3:\\n\",O)\n",
        "\n",
        "D1 = round(FindDistance(N,O),3)\n",
        "print(\"\\nDistance between vectors N and O:\",D1)\n",
        "\n",
        "D2 = round(FindDistance(M,O),3)\n",
        "print(\"\\nDistance between vectors M and O:\",D2)\n",
        "\n",
        "D3 = round(FindDistance(M,N),3)\n",
        "print(\"\\nDistance between vectors M and N:\",D3)\n",
        " \n",
        "# Formula to calculate in-center\n",
        "x = (D1 * N[0] + D2 * M[0] + D3 * O[0]) / (D1 + D2 + D3);\n",
        "y = (D1 * N[1] + D2 * M[1] + D3 * O[1]) / (D1 + D2 + D3);\n",
        "\n",
        "print(\"Incenter = (\", x ,\",\", y ,\")\");"
      ],
      "execution_count": 29,
      "outputs": [
        {
          "output_type": "stream",
          "name": "stdout",
          "text": [
            "Consider line as AX + BY = C\n",
            "Enter the value of A, B and C for first line:\n",
            "A:5\n",
            "B:-12\n",
            "C:0\n",
            "Enter the value of A, B and C for second line:\n",
            "A:5\n",
            "B:12\n",
            "C:-60\n",
            "Enter the value of A, B and C for third line:\n",
            "A:12\n",
            "B:5\n",
            "C:60\n",
            "\n",
            "Intersection between line 1 and 2:\n",
            " [[-6. ]\n",
            " [-2.5]]\n",
            "\n",
            "Intersection between line 2 and 3:\n",
            " [[-6. ]\n",
            " [-2.5]]\n",
            "\n",
            "Intersection between line 1 and 3:\n",
            " [[4.26 ]\n",
            " [1.775]]\n",
            "\n",
            "Distance between vectors N and O: 11.209\n",
            "\n",
            "Distance between vectors M and O: 11.115\n",
            "\n",
            "Distance between vectors M and N: 15.786\n",
            "Incenter = ( [[2.536]] , [[-2.515]] )\n"
          ]
        }
      ]
    }
  ]
}